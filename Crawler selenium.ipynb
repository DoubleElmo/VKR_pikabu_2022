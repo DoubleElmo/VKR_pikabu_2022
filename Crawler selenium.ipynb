{
 "cells": [
  {
   "cell_type": "markdown",
   "metadata": {},
   "source": [
    "## Crawler (selenium)"
   ]
  },
  {
   "cell_type": "code",
   "execution_count": 1,
   "metadata": {},
   "outputs": [],
   "source": [
    "from selenium import webdriver\n",
    "import pandas as pd"
   ]
  },
  {
   "cell_type": "code",
   "execution_count": 2,
   "metadata": {},
   "outputs": [],
   "source": [
    "from selenium.webdriver.common.action_chains import ActionChains"
   ]
  },
  {
   "cell_type": "code",
   "execution_count": 3,
   "metadata": {},
   "outputs": [],
   "source": [
    "from time import sleep"
   ]
  },
  {
   "cell_type": "code",
   "execution_count": 15,
   "metadata": {},
   "outputs": [],
   "source": [
    "df = pd.DataFrame(columns=['Comment', 'Link'])"
   ]
  },
  {
   "cell_type": "code",
   "execution_count": 16,
   "metadata": {},
   "outputs": [],
   "source": [
    "from selenium.webdriver.chrome.options import Options\n",
    "\n",
    "options = Options()\n",
    "options.binary_location = \"C:/Program Files/Google/Chrome/Application/chrome.exe\"\n",
    "\n",
    "driver = webdriver.Chrome('C:/Users/Jaood/OneDrive/Рабочий стол/programmin/crawler/chromedriver.exe')\n",
    "sitelink = 'https://pikabu.ru/story/proektnaya_deyatelnost_9117360'\n",
    "driver.get(sitelink + '#comments')"
   ]
  },
  {
   "cell_type": "markdown",
   "metadata": {},
   "source": [
    "Функция, разворачивающая все списки на странице"
   ]
  },
  {
   "cell_type": "code",
   "execution_count": 6,
   "metadata": {},
   "outputs": [],
   "source": [
    "action = ActionChains(driver)\n",
    "def fun_function():\n",
    "    global action\n",
    "    menu2 = driver.find_elements_by_xpath(\"//div[@class='comment-toggle-children comment-toggle-children_collapse comment-toggle-children_highlight_yellow']\")\n",
    "    menu= driver.find_elements_by_xpath(\"//div[@class='comment-toggle-children__icon']\")\n",
    "    menu3 = driver.find_elements_by_xpath(\"//button[@class='comment__more']\")\n",
    "    while menu3:\n",
    "#         if not menu3:\n",
    "#             break\n",
    "#         else:\n",
    "            try:\n",
    "                for iterat3 in menu3:\n",
    "                    ActionChains(driver).click(iterat3).perform()\n",
    "                    time.sleep(2)\n",
    "            except:\n",
    "                break\n",
    "    for iterat in menu:\n",
    "        ActionChains(driver).click(iterat).perform()\n",
    "        \n",
    "    for iterat2 in menu2:\n",
    "        ActionChains(driver).click(iterat2).perform()"
   ]
  },
  {
   "cell_type": "markdown",
   "metadata": {},
   "source": [
    "Функция, собирающая сбор данных и записывающая их в датафрейм"
   ]
  },
  {
   "cell_type": "code",
   "execution_count": 17,
   "metadata": {},
   "outputs": [],
   "source": [
    "def scrap_page(site):\n",
    "    global df\n",
    "    fun_function()\n",
    "#     username_elements = driver.find_elements_by_xpath('//div[@class=\"comment\"]/div[@class=\"comment__body\"]/div[@class=\"comment__header\"]/div[@class=\"comment__user\"]/a/span[@class=\"user__nick\"][1]')\n",
    "    comment_elements = driver.find_elements_by_xpath('//div[@class=\"comment\"]/div[@class=\"comment__body\"]/div[@class=\"comment__content\"]')\n",
    "    for i in range(len(comment_elements)):\n",
    "        if not comment_elements[i].text == '':\n",
    "            com = {'Comment': comment_elements[i].text,\n",
    "                   'Link': site}\n",
    "            df = df.append(com, ignore_index=True)"
   ]
  },
  {
   "cell_type": "code",
   "execution_count": 18,
   "metadata": {},
   "outputs": [],
   "source": [
    "scrap_page(sitelink)"
   ]
  },
  {
   "cell_type": "code",
   "execution_count": 47,
   "metadata": {},
   "outputs": [
    {
     "data": {
      "text/html": [
       "<div>\n",
       "<style scoped>\n",
       "    .dataframe tbody tr th:only-of-type {\n",
       "        vertical-align: middle;\n",
       "    }\n",
       "\n",
       "    .dataframe tbody tr th {\n",
       "        vertical-align: top;\n",
       "    }\n",
       "\n",
       "    .dataframe thead th {\n",
       "        text-align: right;\n",
       "    }\n",
       "</style>\n",
       "<table border=\"1\" class=\"dataframe\">\n",
       "  <thead>\n",
       "    <tr style=\"text-align: right;\">\n",
       "      <th></th>\n",
       "      <th>Comment</th>\n",
       "      <th>Link</th>\n",
       "    </tr>\n",
       "  </thead>\n",
       "  <tbody>\n",
       "    <tr>\n",
       "      <th>0</th>\n",
       "      <td>Лёша, выходи сегодня же! За эти полтора месяца...</td>\n",
       "      <td>https://pikabu.ru/story/proektnaya_deyatelnost...</td>\n",
       "    </tr>\n",
       "    <tr>\n",
       "      <th>1</th>\n",
       "      <td>Лёша, ты вообще единственный разработчик на пр...</td>\n",
       "      <td>https://pikabu.ru/story/proektnaya_deyatelnost...</td>\n",
       "    </tr>\n",
       "    <tr>\n",
       "      <th>2</th>\n",
       "      <td>Пистолет Макарова?</td>\n",
       "      <td>https://pikabu.ru/story/proektnaya_deyatelnost...</td>\n",
       "    </tr>\n",
       "    <tr>\n",
       "      <th>3</th>\n",
       "      <td>Проект Менеджер, если локализовать на русский ...</td>\n",
       "      <td>https://pikabu.ru/story/proektnaya_deyatelnost...</td>\n",
       "    </tr>\n",
       "    <tr>\n",
       "      <th>4</th>\n",
       "      <td>ГП? Гранатомёт подствольный?</td>\n",
       "      <td>https://pikabu.ru/story/proektnaya_deyatelnost...</td>\n",
       "    </tr>\n",
       "    <tr>\n",
       "      <th>...</th>\n",
       "      <td>...</td>\n",
       "      <td>...</td>\n",
       "    </tr>\n",
       "    <tr>\n",
       "      <th>74</th>\n",
       "      <td>Работал на шахте, в Донбассе такое не прокатыв...</td>\n",
       "      <td>https://pikabu.ru/story/proektnaya_deyatelnost...</td>\n",
       "    </tr>\n",
       "    <tr>\n",
       "      <th>75</th>\n",
       "      <td>Сейчас подобная ситуация происходит. Механик н...</td>\n",
       "      <td>https://pikabu.ru/story/proektnaya_deyatelnost...</td>\n",
       "    </tr>\n",
       "    <tr>\n",
       "      <th>76</th>\n",
       "      <td>иногда полезно прогуливать работу ) в хороших ...</td>\n",
       "      <td>https://pikabu.ru/story/proektnaya_deyatelnost...</td>\n",
       "    </tr>\n",
       "    <tr>\n",
       "      <th>77</th>\n",
       "      <td>Скорее всего кого то забрали захватом :)</td>\n",
       "      <td>https://pikabu.ru/story/proektnaya_deyatelnost...</td>\n",
       "    </tr>\n",
       "    <tr>\n",
       "      <th>78</th>\n",
       "      <td>Щ</td>\n",
       "      <td>https://pikabu.ru/story/proektnaya_deyatelnost...</td>\n",
       "    </tr>\n",
       "  </tbody>\n",
       "</table>\n",
       "<p>79 rows × 2 columns</p>\n",
       "</div>"
      ],
      "text/plain": [
       "                                              Comment  \\\n",
       "0   Лёша, выходи сегодня же! За эти полтора месяца...   \n",
       "1   Лёша, ты вообще единственный разработчик на пр...   \n",
       "2                                  Пистолет Макарова?   \n",
       "3   Проект Менеджер, если локализовать на русский ...   \n",
       "4                        ГП? Гранатомёт подствольный?   \n",
       "..                                                ...   \n",
       "74  Работал на шахте, в Донбассе такое не прокатыв...   \n",
       "75  Сейчас подобная ситуация происходит. Механик н...   \n",
       "76  иногда полезно прогуливать работу ) в хороших ...   \n",
       "77           Скорее всего кого то забрали захватом :)   \n",
       "78                                                  Щ   \n",
       "\n",
       "                                                 Link  \n",
       "0   https://pikabu.ru/story/proektnaya_deyatelnost...  \n",
       "1   https://pikabu.ru/story/proektnaya_deyatelnost...  \n",
       "2   https://pikabu.ru/story/proektnaya_deyatelnost...  \n",
       "3   https://pikabu.ru/story/proektnaya_deyatelnost...  \n",
       "4   https://pikabu.ru/story/proektnaya_deyatelnost...  \n",
       "..                                                ...  \n",
       "74  https://pikabu.ru/story/proektnaya_deyatelnost...  \n",
       "75  https://pikabu.ru/story/proektnaya_deyatelnost...  \n",
       "76  https://pikabu.ru/story/proektnaya_deyatelnost...  \n",
       "77  https://pikabu.ru/story/proektnaya_deyatelnost...  \n",
       "78  https://pikabu.ru/story/proektnaya_deyatelnost...  \n",
       "\n",
       "[79 rows x 2 columns]"
      ]
     },
     "execution_count": 47,
     "metadata": {},
     "output_type": "execute_result"
    }
   ],
   "source": [
    "df"
   ]
  },
  {
   "cell_type": "code",
   "execution_count": 20,
   "metadata": {},
   "outputs": [],
   "source": [
    "from selenium.webdriver.common.keys import Keys\n",
    "handle = []"
   ]
  },
  {
   "cell_type": "code",
   "execution_count": 45,
   "metadata": {},
   "outputs": [],
   "source": [
    "def nav_check(link, navigation_element, nav):\n",
    "    global links_list\n",
    "    links_list.append(link)\n",
    "    if link not in links_list:\n",
    "        return link\n",
    "    else:\n",
    "        nav += 1\n",
    "        link = navigation_element[nav].get_attribute('href')\n",
    "        print(links_list)\n",
    "        nav_check(link, navigation_element, nav)"
   ]
  },
  {
   "cell_type": "code",
   "execution_count": 55,
   "metadata": {},
   "outputs": [
    {
     "name": "stderr",
     "output_type": "stream",
     "text": [
      "<ipython-input-55-e705e414b985>:13: DeprecationWarning: use driver.switch_to.window instead\n",
      "  driver.switch_to_window(handles.pop())\n"
     ]
    }
   ],
   "source": [
    "parent_h = driver.current_window_handle\n",
    "links_list = []\n",
    "nav_ind = 0\n",
    "\n",
    "\n",
    "navigation_element = driver.find_elements_by_xpath('//div[@class=\"stories-feed__container\"]/article[@class=\"story rv-related\"]/div[@class=\"story__main\"]/header[@class=\"story__header\"]/h2[@class=\"story__title\"]/a[@class=\"story__title-link\"]')\n",
    "# link = navigation_element[nav_ind].get_attribute('href')\n",
    "# nav_ind = nav_check(link, navigation_element, nav_ind)\n",
    "link = nav_check(link, navigation_element, nav_ind)\n",
    "checkIn = navigation_element[nav_ind].click()\n",
    "handles = driver.window_handles # before the pop-up window closes\n",
    "driver.implicitly_wait(5)\n",
    "driver.switch_to_window(handles.pop())"
   ]
  },
  {
   "cell_type": "code",
   "execution_count": null,
   "metadata": {},
   "outputs": [],
   "source": [
    "scrap_page(link)"
   ]
  },
  {
   "cell_type": "code",
   "execution_count": 96,
   "metadata": {},
   "outputs": [],
   "source": [
    "from selenium.webdriver.chrome.options import Options\n",
    "\n",
    "options = Options()\n",
    "options.binary_location = \"C:/Program Files/Google/Chrome/Application/chrome.exe\"\n",
    "\n",
    "driver = webdriver.Chrome('C:/Users/Jaood/OneDrive/Рабочий стол/programmin/crawler/chromedriver.exe')\n",
    "link = 'https://pikabu.ru/story/dobro_dolzhno_byit_s_kulakami_9117204'\n",
    "driver.get(link + '#comments')"
   ]
  },
  {
   "cell_type": "code",
   "execution_count": 97,
   "metadata": {
    "scrolled": true
   },
   "outputs": [],
   "source": [
    "scrap_page(link)"
   ]
  },
  {
   "cell_type": "code",
   "execution_count": 98,
   "metadata": {},
   "outputs": [
    {
     "data": {
      "text/html": [
       "<div>\n",
       "<style scoped>\n",
       "    .dataframe tbody tr th:only-of-type {\n",
       "        vertical-align: middle;\n",
       "    }\n",
       "\n",
       "    .dataframe tbody tr th {\n",
       "        vertical-align: top;\n",
       "    }\n",
       "\n",
       "    .dataframe thead th {\n",
       "        text-align: right;\n",
       "    }\n",
       "</style>\n",
       "<table border=\"1\" class=\"dataframe\">\n",
       "  <thead>\n",
       "    <tr style=\"text-align: right;\">\n",
       "      <th></th>\n",
       "      <th>Comment</th>\n",
       "      <th>Link</th>\n",
       "    </tr>\n",
       "  </thead>\n",
       "  <tbody>\n",
       "    <tr>\n",
       "      <th>0</th>\n",
       "      <td>Лёша, выходи сегодня же! За эти полтора месяца...</td>\n",
       "      <td>https://pikabu.ru/story/proektnaya_deyatelnost...</td>\n",
       "    </tr>\n",
       "    <tr>\n",
       "      <th>1</th>\n",
       "      <td>Лёша, ты вообще единственный разработчик на пр...</td>\n",
       "      <td>https://pikabu.ru/story/proektnaya_deyatelnost...</td>\n",
       "    </tr>\n",
       "    <tr>\n",
       "      <th>2</th>\n",
       "      <td>Пистолет Макарова?</td>\n",
       "      <td>https://pikabu.ru/story/proektnaya_deyatelnost...</td>\n",
       "    </tr>\n",
       "    <tr>\n",
       "      <th>3</th>\n",
       "      <td>Проект Менеджер, если локализовать на русский ...</td>\n",
       "      <td>https://pikabu.ru/story/proektnaya_deyatelnost...</td>\n",
       "    </tr>\n",
       "    <tr>\n",
       "      <th>4</th>\n",
       "      <td>ГП? Гранатомёт подствольный?</td>\n",
       "      <td>https://pikabu.ru/story/proektnaya_deyatelnost...</td>\n",
       "    </tr>\n",
       "    <tr>\n",
       "      <th>...</th>\n",
       "      <td>...</td>\n",
       "      <td>...</td>\n",
       "    </tr>\n",
       "    <tr>\n",
       "      <th>1088</th>\n",
       "      <td>\"Работники ножа и топора, романтики с большой ...</td>\n",
       "      <td>https://pikabu.ru/story/dobro_dolzhno_byit_s_k...</td>\n",
       "    </tr>\n",
       "    <tr>\n",
       "      <th>1089</th>\n",
       "      <td>Прям мимими, блядь! Мафиози бывших не бывает.\\...</td>\n",
       "      <td>https://pikabu.ru/story/dobro_dolzhno_byit_s_k...</td>\n",
       "    </tr>\n",
       "    <tr>\n",
       "      <th>1090</th>\n",
       "      <td>Оправдание насилия над людьми</td>\n",
       "      <td>https://pikabu.ru/story/dobro_dolzhno_byit_s_k...</td>\n",
       "    </tr>\n",
       "    <tr>\n",
       "      <th>1091</th>\n",
       "      <td>А деньги на всё откуда? Правильно, с продажи н...</td>\n",
       "      <td>https://pikabu.ru/story/dobro_dolzhno_byit_s_k...</td>\n",
       "    </tr>\n",
       "    <tr>\n",
       "      <th>1092</th>\n",
       "      <td>Почему то нынче модно не детей защищать а живо...</td>\n",
       "      <td>https://pikabu.ru/story/dobro_dolzhno_byit_s_k...</td>\n",
       "    </tr>\n",
       "  </tbody>\n",
       "</table>\n",
       "<p>1093 rows × 2 columns</p>\n",
       "</div>"
      ],
      "text/plain": [
       "                                                Comment  \\\n",
       "0     Лёша, выходи сегодня же! За эти полтора месяца...   \n",
       "1     Лёша, ты вообще единственный разработчик на пр...   \n",
       "2                                    Пистолет Макарова?   \n",
       "3     Проект Менеджер, если локализовать на русский ...   \n",
       "4                          ГП? Гранатомёт подствольный?   \n",
       "...                                                 ...   \n",
       "1088  \"Работники ножа и топора, романтики с большой ...   \n",
       "1089  Прям мимими, блядь! Мафиози бывших не бывает.\\...   \n",
       "1090                      Оправдание насилия над людьми   \n",
       "1091  А деньги на всё откуда? Правильно, с продажи н...   \n",
       "1092  Почему то нынче модно не детей защищать а живо...   \n",
       "\n",
       "                                                   Link  \n",
       "0     https://pikabu.ru/story/proektnaya_deyatelnost...  \n",
       "1     https://pikabu.ru/story/proektnaya_deyatelnost...  \n",
       "2     https://pikabu.ru/story/proektnaya_deyatelnost...  \n",
       "3     https://pikabu.ru/story/proektnaya_deyatelnost...  \n",
       "4     https://pikabu.ru/story/proektnaya_deyatelnost...  \n",
       "...                                                 ...  \n",
       "1088  https://pikabu.ru/story/dobro_dolzhno_byit_s_k...  \n",
       "1089  https://pikabu.ru/story/dobro_dolzhno_byit_s_k...  \n",
       "1090  https://pikabu.ru/story/dobro_dolzhno_byit_s_k...  \n",
       "1091  https://pikabu.ru/story/dobro_dolzhno_byit_s_k...  \n",
       "1092  https://pikabu.ru/story/dobro_dolzhno_byit_s_k...  \n",
       "\n",
       "[1093 rows x 2 columns]"
      ]
     },
     "execution_count": 98,
     "metadata": {},
     "output_type": "execute_result"
    }
   ],
   "source": [
    "df"
   ]
  },
  {
   "cell_type": "code",
   "execution_count": 101,
   "metadata": {},
   "outputs": [],
   "source": [
    "csv_output = df.to_csv(index=False)"
   ]
  },
  {
   "cell_type": "code",
   "execution_count": 99,
   "metadata": {},
   "outputs": [],
   "source": [
    "f = open('18.05.csv', 'w', encoding='utf-8')"
   ]
  },
  {
   "cell_type": "code",
   "execution_count": 102,
   "metadata": {},
   "outputs": [
    {
     "data": {
      "text/plain": [
       "204419"
      ]
     },
     "execution_count": 102,
     "metadata": {},
     "output_type": "execute_result"
    }
   ],
   "source": [
    "f.write(csv_output)"
   ]
  },
  {
   "cell_type": "code",
   "execution_count": 103,
   "metadata": {},
   "outputs": [],
   "source": [
    "f.close()"
   ]
  },
  {
   "cell_type": "code",
   "execution_count": 104,
   "metadata": {},
   "outputs": [],
   "source": [
    "df1 = pd.read_csv('18.05.csv')"
   ]
  },
  {
   "cell_type": "code",
   "execution_count": 105,
   "metadata": {},
   "outputs": [
    {
     "data": {
      "text/html": [
       "<div>\n",
       "<style scoped>\n",
       "    .dataframe tbody tr th:only-of-type {\n",
       "        vertical-align: middle;\n",
       "    }\n",
       "\n",
       "    .dataframe tbody tr th {\n",
       "        vertical-align: top;\n",
       "    }\n",
       "\n",
       "    .dataframe thead th {\n",
       "        text-align: right;\n",
       "    }\n",
       "</style>\n",
       "<table border=\"1\" class=\"dataframe\">\n",
       "  <thead>\n",
       "    <tr style=\"text-align: right;\">\n",
       "      <th></th>\n",
       "      <th>Comment</th>\n",
       "      <th>Link</th>\n",
       "    </tr>\n",
       "  </thead>\n",
       "  <tbody>\n",
       "    <tr>\n",
       "      <th>0</th>\n",
       "      <td>Лёша, выходи сегодня же! За эти полтора месяца...</td>\n",
       "      <td>https://pikabu.ru/story/proektnaya_deyatelnost...</td>\n",
       "    </tr>\n",
       "    <tr>\n",
       "      <th>1</th>\n",
       "      <td>Лёша, ты вообще единственный разработчик на пр...</td>\n",
       "      <td>https://pikabu.ru/story/proektnaya_deyatelnost...</td>\n",
       "    </tr>\n",
       "    <tr>\n",
       "      <th>2</th>\n",
       "      <td>Пистолет Макарова?</td>\n",
       "      <td>https://pikabu.ru/story/proektnaya_deyatelnost...</td>\n",
       "    </tr>\n",
       "    <tr>\n",
       "      <th>3</th>\n",
       "      <td>Проект Менеджер, если локализовать на русский ...</td>\n",
       "      <td>https://pikabu.ru/story/proektnaya_deyatelnost...</td>\n",
       "    </tr>\n",
       "    <tr>\n",
       "      <th>4</th>\n",
       "      <td>ГП? Гранатомёт подствольный?</td>\n",
       "      <td>https://pikabu.ru/story/proektnaya_deyatelnost...</td>\n",
       "    </tr>\n",
       "    <tr>\n",
       "      <th>...</th>\n",
       "      <td>...</td>\n",
       "      <td>...</td>\n",
       "    </tr>\n",
       "    <tr>\n",
       "      <th>1088</th>\n",
       "      <td>\"Работники ножа и топора, романтики с большой ...</td>\n",
       "      <td>https://pikabu.ru/story/dobro_dolzhno_byit_s_k...</td>\n",
       "    </tr>\n",
       "    <tr>\n",
       "      <th>1089</th>\n",
       "      <td>Прям мимими, блядь! Мафиози бывших не бывает.\\...</td>\n",
       "      <td>https://pikabu.ru/story/dobro_dolzhno_byit_s_k...</td>\n",
       "    </tr>\n",
       "    <tr>\n",
       "      <th>1090</th>\n",
       "      <td>Оправдание насилия над людьми</td>\n",
       "      <td>https://pikabu.ru/story/dobro_dolzhno_byit_s_k...</td>\n",
       "    </tr>\n",
       "    <tr>\n",
       "      <th>1091</th>\n",
       "      <td>А деньги на всё откуда? Правильно, с продажи н...</td>\n",
       "      <td>https://pikabu.ru/story/dobro_dolzhno_byit_s_k...</td>\n",
       "    </tr>\n",
       "    <tr>\n",
       "      <th>1092</th>\n",
       "      <td>Почему то нынче модно не детей защищать а живо...</td>\n",
       "      <td>https://pikabu.ru/story/dobro_dolzhno_byit_s_k...</td>\n",
       "    </tr>\n",
       "  </tbody>\n",
       "</table>\n",
       "<p>1093 rows × 2 columns</p>\n",
       "</div>"
      ],
      "text/plain": [
       "                                                Comment  \\\n",
       "0     Лёша, выходи сегодня же! За эти полтора месяца...   \n",
       "1     Лёша, ты вообще единственный разработчик на пр...   \n",
       "2                                    Пистолет Макарова?   \n",
       "3     Проект Менеджер, если локализовать на русский ...   \n",
       "4                          ГП? Гранатомёт подствольный?   \n",
       "...                                                 ...   \n",
       "1088  \"Работники ножа и топора, романтики с большой ...   \n",
       "1089  Прям мимими, блядь! Мафиози бывших не бывает.\\...   \n",
       "1090                      Оправдание насилия над людьми   \n",
       "1091  А деньги на всё откуда? Правильно, с продажи н...   \n",
       "1092  Почему то нынче модно не детей защищать а живо...   \n",
       "\n",
       "                                                   Link  \n",
       "0     https://pikabu.ru/story/proektnaya_deyatelnost...  \n",
       "1     https://pikabu.ru/story/proektnaya_deyatelnost...  \n",
       "2     https://pikabu.ru/story/proektnaya_deyatelnost...  \n",
       "3     https://pikabu.ru/story/proektnaya_deyatelnost...  \n",
       "4     https://pikabu.ru/story/proektnaya_deyatelnost...  \n",
       "...                                                 ...  \n",
       "1088  https://pikabu.ru/story/dobro_dolzhno_byit_s_k...  \n",
       "1089  https://pikabu.ru/story/dobro_dolzhno_byit_s_k...  \n",
       "1090  https://pikabu.ru/story/dobro_dolzhno_byit_s_k...  \n",
       "1091  https://pikabu.ru/story/dobro_dolzhno_byit_s_k...  \n",
       "1092  https://pikabu.ru/story/dobro_dolzhno_byit_s_k...  \n",
       "\n",
       "[1093 rows x 2 columns]"
      ]
     },
     "execution_count": 105,
     "metadata": {},
     "output_type": "execute_result"
    }
   ],
   "source": [
    "df1"
   ]
  },
  {
   "cell_type": "code",
   "execution_count": null,
   "metadata": {},
   "outputs": [],
   "source": []
  }
 ],
 "metadata": {
  "kernelspec": {
   "display_name": "Python 3",
   "language": "python",
   "name": "python3"
  },
  "language_info": {
   "codemirror_mode": {
    "name": "ipython",
    "version": 3
   },
   "file_extension": ".py",
   "mimetype": "text/x-python",
   "name": "python",
   "nbconvert_exporter": "python",
   "pygments_lexer": "ipython3",
   "version": "3.8.5"
  }
 },
 "nbformat": 4,
 "nbformat_minor": 4
}
